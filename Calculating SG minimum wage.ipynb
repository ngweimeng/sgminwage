{
 "cells": [
  {
   "cell_type": "code",
   "execution_count": 1,
   "id": "019a107f",
   "metadata": {},
   "outputs": [],
   "source": [
    "# Import packages\n",
    "\n",
    "import pandas as pd\n",
    "from sklearn.linear_model import LinearRegression\n",
    "from sklearn.metrics import mean_squared_error\n",
    "from sklearn.preprocessing import StandardScaler\n",
    "from sklearn.model_selection import train_test_split\n",
    "import numpy as np\n",
    "import statsmodels.api as sm\n",
    "import matplotlib.pyplot as plt\n",
    "import seaborn as sns"
   ]
  },
  {
   "cell_type": "code",
   "execution_count": 2,
   "id": "67dd67a4",
   "metadata": {},
   "outputs": [],
   "source": [
    "# Load the Excel files\n",
    "\n",
    "min_wage_df = pd.read_excel('annual_wage_min.xlsx', engine='openpyxl') \n",
    "gdp_per_capita_df = pd.read_excel('gdp_per_capita.xlsx', engine='openpyxl')\n",
    "quality_of_life_df = pd.read_excel('quality_of_life.xlsx', engine='openpyxl')\n",
    "cost_df = pd.read_excel('cost_of_living_index.xlsx', engine='openpyxl')\n",
    "\n",
    "# Source: \n",
    "# https://en.wikipedia.org/wiki/List_of_countries_by_minimum_wage\n",
    "# https://www.worldometers.info/gdp/gdp-per-capita/\n",
    "# https://www.worlddata.info/richest-countries.php\n",
    "# https://www.numbeo.com/cost-of-living/rankings_by_country.jsp?title=2022"
   ]
  },
  {
   "cell_type": "markdown",
   "id": "d3bdaaa6",
   "metadata": {},
   "source": [
    "## File Cleaning"
   ]
  },
  {
   "cell_type": "code",
   "execution_count": 3,
   "id": "08c22c6c",
   "metadata": {},
   "outputs": [
    {
     "name": "stdout",
     "output_type": "stream",
     "text": [
      "<class 'pandas.core.frame.DataFrame'>\n",
      "RangeIndex: 159 entries, 0 to 158\n",
      "Data columns (total 3 columns):\n",
      " #   Column           Non-Null Count  Dtype  \n",
      "---  ------           --------------  -----  \n",
      " 0   Country          159 non-null    object \n",
      " 1   Annual min wage  158 non-null    float64\n",
      " 2   Work hours/week  159 non-null    float64\n",
      "dtypes: float64(2), object(1)\n",
      "memory usage: 3.9+ KB\n"
     ]
    }
   ],
   "source": [
    "# Check \"min_wage\" file\n",
    "\n",
    "min_wage_df.info()"
   ]
  },
  {
   "cell_type": "code",
   "execution_count": 4,
   "id": "bad974b3",
   "metadata": {},
   "outputs": [],
   "source": [
    "# need to convert \"work hours/week\" from object to float\n",
    "\n",
    "min_wage_df[\"Work hours/week\"] = min_wage_df[\"Work hours/week\"].astype(float)"
   ]
  },
  {
   "cell_type": "code",
   "execution_count": 5,
   "id": "1b4376d0",
   "metadata": {},
   "outputs": [
    {
     "name": "stdout",
     "output_type": "stream",
     "text": [
      "<class 'pandas.core.frame.DataFrame'>\n",
      "RangeIndex: 159 entries, 0 to 158\n",
      "Data columns (total 3 columns):\n",
      " #   Column           Non-Null Count  Dtype  \n",
      "---  ------           --------------  -----  \n",
      " 0   Country          159 non-null    object \n",
      " 1   Annual min wage  158 non-null    float64\n",
      " 2   Work hours/week  159 non-null    float64\n",
      "dtypes: float64(2), object(1)\n",
      "memory usage: 3.9+ KB\n"
     ]
    }
   ],
   "source": [
    "# Verify convertion to float\n",
    "\n",
    "min_wage_df.info()"
   ]
  },
  {
   "cell_type": "code",
   "execution_count": 6,
   "id": "aab75d1e",
   "metadata": {},
   "outputs": [
    {
     "name": "stdout",
     "output_type": "stream",
     "text": [
      "<class 'pandas.core.frame.DataFrame'>\n",
      "RangeIndex: 176 entries, 0 to 175\n",
      "Data columns (total 2 columns):\n",
      " #   Column          Non-Null Count  Dtype \n",
      "---  ------          --------------  ----- \n",
      " 0   Country         176 non-null    object\n",
      " 1   GDP per capita  176 non-null    int64 \n",
      "dtypes: int64(1), object(1)\n",
      "memory usage: 2.9+ KB\n"
     ]
    }
   ],
   "source": [
    "# Check \"gdp_per_capita\" file\n",
    "\n",
    "gdp_per_capita_df.info()"
   ]
  },
  {
   "cell_type": "code",
   "execution_count": 7,
   "id": "7d4b3b7a",
   "metadata": {},
   "outputs": [
    {
     "name": "stdout",
     "output_type": "stream",
     "text": [
      "<class 'pandas.core.frame.DataFrame'>\n",
      "RangeIndex: 129 entries, 0 to 128\n",
      "Data columns (total 8 columns):\n",
      " #   Column      Non-Null Count  Dtype \n",
      "---  ------      --------------  ----- \n",
      " 0   Country     129 non-null    object\n",
      " 1   Stability   129 non-null    int64 \n",
      " 2   Rights      129 non-null    int64 \n",
      " 3   Health      129 non-null    int64 \n",
      " 4   Safety      129 non-null    int64 \n",
      " 5   Climate     129 non-null    int64 \n",
      " 6   Costs       129 non-null    int64 \n",
      " 7   Popularity  129 non-null    int64 \n",
      "dtypes: int64(7), object(1)\n",
      "memory usage: 8.2+ KB\n"
     ]
    }
   ],
   "source": [
    "# Check \"quality of life\" file\n",
    "\n",
    "quality_of_life_df.info()"
   ]
  },
  {
   "cell_type": "code",
   "execution_count": 8,
   "id": "3b65aead",
   "metadata": {},
   "outputs": [
    {
     "name": "stdout",
     "output_type": "stream",
     "text": [
      "<class 'pandas.core.frame.DataFrame'>\n",
      "RangeIndex: 139 entries, 0 to 138\n",
      "Data columns (total 2 columns):\n",
      " #   Column                Non-Null Count  Dtype  \n",
      "---  ------                --------------  -----  \n",
      " 0   Country               139 non-null    object \n",
      " 1   Cost of Living Index  139 non-null    float64\n",
      "dtypes: float64(1), object(1)\n",
      "memory usage: 2.3+ KB\n"
     ]
    }
   ],
   "source": [
    "# Check \"cost\" file\n",
    "\n",
    "cost_df.info()"
   ]
  },
  {
   "cell_type": "code",
   "execution_count": 9,
   "id": "df7c059f",
   "metadata": {},
   "outputs": [
    {
     "data": {
      "text/html": [
       "<div>\n",
       "<style scoped>\n",
       "    .dataframe tbody tr th:only-of-type {\n",
       "        vertical-align: middle;\n",
       "    }\n",
       "\n",
       "    .dataframe tbody tr th {\n",
       "        vertical-align: top;\n",
       "    }\n",
       "\n",
       "    .dataframe thead th {\n",
       "        text-align: right;\n",
       "    }\n",
       "</style>\n",
       "<table border=\"1\" class=\"dataframe\">\n",
       "  <thead>\n",
       "    <tr style=\"text-align: right;\">\n",
       "      <th></th>\n",
       "      <th>Country</th>\n",
       "      <th>Annual min wage</th>\n",
       "      <th>Work hours/week</th>\n",
       "      <th>GDP per capita</th>\n",
       "      <th>Stability</th>\n",
       "      <th>Rights</th>\n",
       "      <th>Health</th>\n",
       "      <th>Safety</th>\n",
       "      <th>Climate</th>\n",
       "      <th>Costs</th>\n",
       "      <th>Popularity</th>\n",
       "      <th>Cost of Living Index</th>\n",
       "    </tr>\n",
       "  </thead>\n",
       "  <tbody>\n",
       "    <tr>\n",
       "      <th>0</th>\n",
       "      <td>Afghanistan</td>\n",
       "      <td>858.0</td>\n",
       "      <td>40.0</td>\n",
       "      <td>NaN</td>\n",
       "      <td>30.0</td>\n",
       "      <td>9.0</td>\n",
       "      <td>15.0</td>\n",
       "      <td>56.0</td>\n",
       "      <td>64.0</td>\n",
       "      <td>63.0</td>\n",
       "      <td>12.0</td>\n",
       "      <td>20.4</td>\n",
       "    </tr>\n",
       "    <tr>\n",
       "      <th>1</th>\n",
       "      <td>Albania</td>\n",
       "      <td>4637.0</td>\n",
       "      <td>40.0</td>\n",
       "      <td>6643.0</td>\n",
       "      <td>57.0</td>\n",
       "      <td>43.0</td>\n",
       "      <td>60.0</td>\n",
       "      <td>86.0</td>\n",
       "      <td>55.0</td>\n",
       "      <td>59.0</td>\n",
       "      <td>19.0</td>\n",
       "      <td>35.5</td>\n",
       "    </tr>\n",
       "    <tr>\n",
       "      <th>2</th>\n",
       "      <td>Algeria</td>\n",
       "      <td>1777.0</td>\n",
       "      <td>40.0</td>\n",
       "      <td>4274.0</td>\n",
       "      <td>40.0</td>\n",
       "      <td>24.0</td>\n",
       "      <td>59.0</td>\n",
       "      <td>80.0</td>\n",
       "      <td>76.0</td>\n",
       "      <td>54.0</td>\n",
       "      <td>31.0</td>\n",
       "      <td>26.9</td>\n",
       "    </tr>\n",
       "    <tr>\n",
       "      <th>3</th>\n",
       "      <td>Andorra</td>\n",
       "      <td>18253.0</td>\n",
       "      <td>40.0</td>\n",
       "      <td>NaN</td>\n",
       "      <td>NaN</td>\n",
       "      <td>NaN</td>\n",
       "      <td>NaN</td>\n",
       "      <td>NaN</td>\n",
       "      <td>NaN</td>\n",
       "      <td>NaN</td>\n",
       "      <td>NaN</td>\n",
       "      <td>NaN</td>\n",
       "    </tr>\n",
       "    <tr>\n",
       "      <th>4</th>\n",
       "      <td>Angola</td>\n",
       "      <td>663.0</td>\n",
       "      <td>44.0</td>\n",
       "      <td>2999.0</td>\n",
       "      <td>NaN</td>\n",
       "      <td>NaN</td>\n",
       "      <td>NaN</td>\n",
       "      <td>NaN</td>\n",
       "      <td>NaN</td>\n",
       "      <td>NaN</td>\n",
       "      <td>NaN</td>\n",
       "      <td>NaN</td>\n",
       "    </tr>\n",
       "    <tr>\n",
       "      <th>...</th>\n",
       "      <td>...</td>\n",
       "      <td>...</td>\n",
       "      <td>...</td>\n",
       "      <td>...</td>\n",
       "      <td>...</td>\n",
       "      <td>...</td>\n",
       "      <td>...</td>\n",
       "      <td>...</td>\n",
       "      <td>...</td>\n",
       "      <td>...</td>\n",
       "      <td>...</td>\n",
       "      <td>...</td>\n",
       "    </tr>\n",
       "    <tr>\n",
       "      <th>206</th>\n",
       "      <td>Yemen</td>\n",
       "      <td>NaN</td>\n",
       "      <td>NaN</td>\n",
       "      <td>NaN</td>\n",
       "      <td>NaN</td>\n",
       "      <td>NaN</td>\n",
       "      <td>NaN</td>\n",
       "      <td>NaN</td>\n",
       "      <td>NaN</td>\n",
       "      <td>NaN</td>\n",
       "      <td>NaN</td>\n",
       "      <td>53.1</td>\n",
       "    </tr>\n",
       "    <tr>\n",
       "      <th>207</th>\n",
       "      <td>Venezuela</td>\n",
       "      <td>NaN</td>\n",
       "      <td>NaN</td>\n",
       "      <td>NaN</td>\n",
       "      <td>NaN</td>\n",
       "      <td>NaN</td>\n",
       "      <td>NaN</td>\n",
       "      <td>NaN</td>\n",
       "      <td>NaN</td>\n",
       "      <td>NaN</td>\n",
       "      <td>NaN</td>\n",
       "      <td>43.2</td>\n",
       "    </tr>\n",
       "    <tr>\n",
       "      <th>208</th>\n",
       "      <td>Bosnia And Herzegovina</td>\n",
       "      <td>NaN</td>\n",
       "      <td>NaN</td>\n",
       "      <td>NaN</td>\n",
       "      <td>NaN</td>\n",
       "      <td>NaN</td>\n",
       "      <td>NaN</td>\n",
       "      <td>NaN</td>\n",
       "      <td>NaN</td>\n",
       "      <td>NaN</td>\n",
       "      <td>NaN</td>\n",
       "      <td>36.1</td>\n",
       "    </tr>\n",
       "    <tr>\n",
       "      <th>209</th>\n",
       "      <td>Somalia</td>\n",
       "      <td>NaN</td>\n",
       "      <td>NaN</td>\n",
       "      <td>NaN</td>\n",
       "      <td>NaN</td>\n",
       "      <td>NaN</td>\n",
       "      <td>NaN</td>\n",
       "      <td>NaN</td>\n",
       "      <td>NaN</td>\n",
       "      <td>NaN</td>\n",
       "      <td>NaN</td>\n",
       "      <td>34.6</td>\n",
       "    </tr>\n",
       "    <tr>\n",
       "      <th>210</th>\n",
       "      <td>Kosovo (Disputed Territory)</td>\n",
       "      <td>NaN</td>\n",
       "      <td>NaN</td>\n",
       "      <td>NaN</td>\n",
       "      <td>NaN</td>\n",
       "      <td>NaN</td>\n",
       "      <td>NaN</td>\n",
       "      <td>NaN</td>\n",
       "      <td>NaN</td>\n",
       "      <td>NaN</td>\n",
       "      <td>NaN</td>\n",
       "      <td>27.1</td>\n",
       "    </tr>\n",
       "  </tbody>\n",
       "</table>\n",
       "<p>211 rows × 12 columns</p>\n",
       "</div>"
      ],
      "text/plain": [
       "                         Country  Annual min wage  Work hours/week  \\\n",
       "0                    Afghanistan            858.0             40.0   \n",
       "1                        Albania           4637.0             40.0   \n",
       "2                        Algeria           1777.0             40.0   \n",
       "3                        Andorra          18253.0             40.0   \n",
       "4                         Angola            663.0             44.0   \n",
       "..                           ...              ...              ...   \n",
       "206                        Yemen              NaN              NaN   \n",
       "207                    Venezuela              NaN              NaN   \n",
       "208       Bosnia And Herzegovina              NaN              NaN   \n",
       "209                      Somalia              NaN              NaN   \n",
       "210  Kosovo (Disputed Territory)              NaN              NaN   \n",
       "\n",
       "     GDP per capita  Stability  Rights  Health  Safety  Climate  Costs  \\\n",
       "0               NaN       30.0     9.0    15.0    56.0     64.0   63.0   \n",
       "1            6643.0       57.0    43.0    60.0    86.0     55.0   59.0   \n",
       "2            4274.0       40.0    24.0    59.0    80.0     76.0   54.0   \n",
       "3               NaN        NaN     NaN     NaN     NaN      NaN    NaN   \n",
       "4            2999.0        NaN     NaN     NaN     NaN      NaN    NaN   \n",
       "..              ...        ...     ...     ...     ...      ...    ...   \n",
       "206             NaN        NaN     NaN     NaN     NaN      NaN    NaN   \n",
       "207             NaN        NaN     NaN     NaN     NaN      NaN    NaN   \n",
       "208             NaN        NaN     NaN     NaN     NaN      NaN    NaN   \n",
       "209             NaN        NaN     NaN     NaN     NaN      NaN    NaN   \n",
       "210             NaN        NaN     NaN     NaN     NaN      NaN    NaN   \n",
       "\n",
       "     Popularity  Cost of Living Index  \n",
       "0          12.0                  20.4  \n",
       "1          19.0                  35.5  \n",
       "2          31.0                  26.9  \n",
       "3           NaN                   NaN  \n",
       "4           NaN                   NaN  \n",
       "..          ...                   ...  \n",
       "206         NaN                  53.1  \n",
       "207         NaN                  43.2  \n",
       "208         NaN                  36.1  \n",
       "209         NaN                  34.6  \n",
       "210         NaN                  27.1  \n",
       "\n",
       "[211 rows x 12 columns]"
      ]
     },
     "execution_count": 9,
     "metadata": {},
     "output_type": "execute_result"
    }
   ],
   "source": [
    "# Merge dataframes based on the 'Country' column\n",
    "\n",
    "merged_df = min_wage_df.merge(gdp_per_capita_df, on='Country', how='outer')\n",
    "merged_df = merged_df.merge(quality_of_life_df, on='Country', how='outer')\n",
    "merged_df = merged_df.merge(cost_df, on='Country', how='outer')\n",
    "\n",
    "merged_df"
   ]
  },
  {
   "cell_type": "code",
   "execution_count": 10,
   "id": "678a9d11",
   "metadata": {},
   "outputs": [
    {
     "data": {
      "text/html": [
       "<div>\n",
       "<style scoped>\n",
       "    .dataframe tbody tr th:only-of-type {\n",
       "        vertical-align: middle;\n",
       "    }\n",
       "\n",
       "    .dataframe tbody tr th {\n",
       "        vertical-align: top;\n",
       "    }\n",
       "\n",
       "    .dataframe thead th {\n",
       "        text-align: right;\n",
       "    }\n",
       "</style>\n",
       "<table border=\"1\" class=\"dataframe\">\n",
       "  <thead>\n",
       "    <tr style=\"text-align: right;\">\n",
       "      <th></th>\n",
       "      <th>Country</th>\n",
       "      <th>Annual min wage</th>\n",
       "      <th>Work hours/week</th>\n",
       "      <th>GDP per capita</th>\n",
       "      <th>Stability</th>\n",
       "      <th>Rights</th>\n",
       "      <th>Health</th>\n",
       "      <th>Safety</th>\n",
       "      <th>Climate</th>\n",
       "      <th>Costs</th>\n",
       "      <th>Popularity</th>\n",
       "      <th>Cost of Living Index</th>\n",
       "    </tr>\n",
       "  </thead>\n",
       "  <tbody>\n",
       "    <tr>\n",
       "      <th>1</th>\n",
       "      <td>Albania</td>\n",
       "      <td>4637.0</td>\n",
       "      <td>40.0</td>\n",
       "      <td>6643.0</td>\n",
       "      <td>57.0</td>\n",
       "      <td>43.0</td>\n",
       "      <td>60.0</td>\n",
       "      <td>86.0</td>\n",
       "      <td>55.0</td>\n",
       "      <td>59.0</td>\n",
       "      <td>19.0</td>\n",
       "      <td>35.5</td>\n",
       "    </tr>\n",
       "    <tr>\n",
       "      <th>2</th>\n",
       "      <td>Algeria</td>\n",
       "      <td>1777.0</td>\n",
       "      <td>40.0</td>\n",
       "      <td>4274.0</td>\n",
       "      <td>40.0</td>\n",
       "      <td>24.0</td>\n",
       "      <td>59.0</td>\n",
       "      <td>80.0</td>\n",
       "      <td>76.0</td>\n",
       "      <td>54.0</td>\n",
       "      <td>31.0</td>\n",
       "      <td>26.9</td>\n",
       "    </tr>\n",
       "    <tr>\n",
       "      <th>6</th>\n",
       "      <td>Argentina</td>\n",
       "      <td>16149.0</td>\n",
       "      <td>48.0</td>\n",
       "      <td>13904.0</td>\n",
       "      <td>44.0</td>\n",
       "      <td>42.0</td>\n",
       "      <td>77.0</td>\n",
       "      <td>81.0</td>\n",
       "      <td>73.0</td>\n",
       "      <td>42.0</td>\n",
       "      <td>38.0</td>\n",
       "      <td>34.7</td>\n",
       "    </tr>\n",
       "    <tr>\n",
       "      <th>7</th>\n",
       "      <td>Armenia</td>\n",
       "      <td>1787.0</td>\n",
       "      <td>40.0</td>\n",
       "      <td>7014.0</td>\n",
       "      <td>43.0</td>\n",
       "      <td>50.0</td>\n",
       "      <td>64.0</td>\n",
       "      <td>76.0</td>\n",
       "      <td>50.0</td>\n",
       "      <td>54.0</td>\n",
       "      <td>19.0</td>\n",
       "      <td>33.9</td>\n",
       "    </tr>\n",
       "    <tr>\n",
       "      <th>8</th>\n",
       "      <td>Australia</td>\n",
       "      <td>34515.0</td>\n",
       "      <td>38.0</td>\n",
       "      <td>64003.0</td>\n",
       "      <td>87.0</td>\n",
       "      <td>95.0</td>\n",
       "      <td>87.0</td>\n",
       "      <td>94.0</td>\n",
       "      <td>90.0</td>\n",
       "      <td>23.0</td>\n",
       "      <td>55.0</td>\n",
       "      <td>77.7</td>\n",
       "    </tr>\n",
       "    <tr>\n",
       "      <th>...</th>\n",
       "      <td>...</td>\n",
       "      <td>...</td>\n",
       "      <td>...</td>\n",
       "      <td>...</td>\n",
       "      <td>...</td>\n",
       "      <td>...</td>\n",
       "      <td>...</td>\n",
       "      <td>...</td>\n",
       "      <td>...</td>\n",
       "      <td>...</td>\n",
       "      <td>...</td>\n",
       "      <td>...</td>\n",
       "    </tr>\n",
       "    <tr>\n",
       "      <th>153</th>\n",
       "      <td>United States</td>\n",
       "      <td>15080.0</td>\n",
       "      <td>40.0</td>\n",
       "      <td>75269.0</td>\n",
       "      <td>67.0</td>\n",
       "      <td>83.0</td>\n",
       "      <td>69.0</td>\n",
       "      <td>67.0</td>\n",
       "      <td>66.0</td>\n",
       "      <td>33.0</td>\n",
       "      <td>87.0</td>\n",
       "      <td>70.1</td>\n",
       "    </tr>\n",
       "    <tr>\n",
       "      <th>154</th>\n",
       "      <td>Uruguay</td>\n",
       "      <td>5816.0</td>\n",
       "      <td>48.0</td>\n",
       "      <td>20795.0</td>\n",
       "      <td>75.0</td>\n",
       "      <td>82.0</td>\n",
       "      <td>70.0</td>\n",
       "      <td>80.0</td>\n",
       "      <td>78.0</td>\n",
       "      <td>42.0</td>\n",
       "      <td>39.0</td>\n",
       "      <td>52.1</td>\n",
       "    </tr>\n",
       "    <tr>\n",
       "      <th>155</th>\n",
       "      <td>Uzbekistan</td>\n",
       "      <td>1041.0</td>\n",
       "      <td>40.0</td>\n",
       "      <td>2322.0</td>\n",
       "      <td>51.0</td>\n",
       "      <td>23.0</td>\n",
       "      <td>59.0</td>\n",
       "      <td>81.0</td>\n",
       "      <td>53.0</td>\n",
       "      <td>61.0</td>\n",
       "      <td>36.0</td>\n",
       "      <td>27.3</td>\n",
       "    </tr>\n",
       "    <tr>\n",
       "      <th>157</th>\n",
       "      <td>Vietnam</td>\n",
       "      <td>1591.0</td>\n",
       "      <td>40.0</td>\n",
       "      <td>4164.0</td>\n",
       "      <td>71.0</td>\n",
       "      <td>35.0</td>\n",
       "      <td>51.0</td>\n",
       "      <td>80.0</td>\n",
       "      <td>52.0</td>\n",
       "      <td>50.0</td>\n",
       "      <td>38.0</td>\n",
       "      <td>37.5</td>\n",
       "    </tr>\n",
       "    <tr>\n",
       "      <th>158</th>\n",
       "      <td>Zambia</td>\n",
       "      <td>596.0</td>\n",
       "      <td>48.0</td>\n",
       "      <td>1488.0</td>\n",
       "      <td>48.0</td>\n",
       "      <td>32.0</td>\n",
       "      <td>11.0</td>\n",
       "      <td>81.0</td>\n",
       "      <td>68.0</td>\n",
       "      <td>54.0</td>\n",
       "      <td>25.0</td>\n",
       "      <td>33.0</td>\n",
       "    </tr>\n",
       "  </tbody>\n",
       "</table>\n",
       "<p>90 rows × 12 columns</p>\n",
       "</div>"
      ],
      "text/plain": [
       "           Country  Annual min wage  Work hours/week  GDP per capita  \\\n",
       "1          Albania           4637.0             40.0          6643.0   \n",
       "2          Algeria           1777.0             40.0          4274.0   \n",
       "6        Argentina          16149.0             48.0         13904.0   \n",
       "7          Armenia           1787.0             40.0          7014.0   \n",
       "8        Australia          34515.0             38.0         64003.0   \n",
       "..             ...              ...              ...             ...   \n",
       "153  United States          15080.0             40.0         75269.0   \n",
       "154        Uruguay           5816.0             48.0         20795.0   \n",
       "155     Uzbekistan           1041.0             40.0          2322.0   \n",
       "157        Vietnam           1591.0             40.0          4164.0   \n",
       "158         Zambia            596.0             48.0          1488.0   \n",
       "\n",
       "     Stability  Rights  Health  Safety  Climate  Costs  Popularity  \\\n",
       "1         57.0    43.0    60.0    86.0     55.0   59.0        19.0   \n",
       "2         40.0    24.0    59.0    80.0     76.0   54.0        31.0   \n",
       "6         44.0    42.0    77.0    81.0     73.0   42.0        38.0   \n",
       "7         43.0    50.0    64.0    76.0     50.0   54.0        19.0   \n",
       "8         87.0    95.0    87.0    94.0     90.0   23.0        55.0   \n",
       "..         ...     ...     ...     ...      ...    ...         ...   \n",
       "153       67.0    83.0    69.0    67.0     66.0   33.0        87.0   \n",
       "154       75.0    82.0    70.0    80.0     78.0   42.0        39.0   \n",
       "155       51.0    23.0    59.0    81.0     53.0   61.0        36.0   \n",
       "157       71.0    35.0    51.0    80.0     52.0   50.0        38.0   \n",
       "158       48.0    32.0    11.0    81.0     68.0   54.0        25.0   \n",
       "\n",
       "     Cost of Living Index  \n",
       "1                    35.5  \n",
       "2                    26.9  \n",
       "6                    34.7  \n",
       "7                    33.9  \n",
       "8                    77.7  \n",
       "..                    ...  \n",
       "153                  70.1  \n",
       "154                  52.1  \n",
       "155                  27.3  \n",
       "157                  37.5  \n",
       "158                  33.0  \n",
       "\n",
       "[90 rows x 12 columns]"
      ]
     },
     "execution_count": 10,
     "metadata": {},
     "output_type": "execute_result"
    }
   ],
   "source": [
    "#Remove rows with \"NaN\" values\n",
    "\n",
    "cleaned_df = merged_df.dropna()\n",
    "cleaned_df\n",
    "#90 countries worth of data"
   ]
  },
  {
   "cell_type": "code",
   "execution_count": 11,
   "id": "a5f2d2c3",
   "metadata": {},
   "outputs": [
    {
     "data": {
      "text/html": [
       "<div>\n",
       "<style scoped>\n",
       "    .dataframe tbody tr th:only-of-type {\n",
       "        vertical-align: middle;\n",
       "    }\n",
       "\n",
       "    .dataframe tbody tr th {\n",
       "        vertical-align: top;\n",
       "    }\n",
       "\n",
       "    .dataframe thead th {\n",
       "        text-align: right;\n",
       "    }\n",
       "</style>\n",
       "<table border=\"1\" class=\"dataframe\">\n",
       "  <thead>\n",
       "    <tr style=\"text-align: right;\">\n",
       "      <th></th>\n",
       "      <th>Country</th>\n",
       "      <th>Annual min wage</th>\n",
       "      <th>Work hours/week</th>\n",
       "      <th>GDP per capita</th>\n",
       "      <th>Stability</th>\n",
       "      <th>Rights</th>\n",
       "      <th>Health</th>\n",
       "      <th>Safety</th>\n",
       "      <th>Climate</th>\n",
       "      <th>Costs</th>\n",
       "      <th>Popularity</th>\n",
       "      <th>Cost of Living Index</th>\n",
       "    </tr>\n",
       "  </thead>\n",
       "  <tbody>\n",
       "    <tr>\n",
       "      <th>129</th>\n",
       "      <td>Singapore</td>\n",
       "      <td>NaN</td>\n",
       "      <td>44.0</td>\n",
       "      <td>78115.0</td>\n",
       "      <td>82.0</td>\n",
       "      <td>89.0</td>\n",
       "      <td>79.0</td>\n",
       "      <td>100.0</td>\n",
       "      <td>45.0</td>\n",
       "      <td>53.0</td>\n",
       "      <td>51.0</td>\n",
       "      <td>84.0</td>\n",
       "    </tr>\n",
       "  </tbody>\n",
       "</table>\n",
       "</div>"
      ],
      "text/plain": [
       "       Country  Annual min wage  Work hours/week  GDP per capita  Stability  \\\n",
       "129  Singapore              NaN             44.0         78115.0       82.0   \n",
       "\n",
       "     Rights  Health  Safety  Climate  Costs  Popularity  Cost of Living Index  \n",
       "129    89.0    79.0   100.0     45.0   53.0        51.0                  84.0  "
      ]
     },
     "execution_count": 11,
     "metadata": {},
     "output_type": "execute_result"
    }
   ],
   "source": [
    "singapore_df = merged_df[merged_df['Country'] == 'Singapore']\n",
    "\n",
    "singapore_df"
   ]
  },
  {
   "cell_type": "markdown",
   "id": "4ce10519",
   "metadata": {},
   "source": [
    "## Building regression model"
   ]
  },
  {
   "cell_type": "code",
   "execution_count": 12,
   "id": "679c6483",
   "metadata": {},
   "outputs": [
    {
     "data": {
      "text/html": [
       "<style>#sk-container-id-1 {color: black;background-color: white;}#sk-container-id-1 pre{padding: 0;}#sk-container-id-1 div.sk-toggleable {background-color: white;}#sk-container-id-1 label.sk-toggleable__label {cursor: pointer;display: block;width: 100%;margin-bottom: 0;padding: 0.3em;box-sizing: border-box;text-align: center;}#sk-container-id-1 label.sk-toggleable__label-arrow:before {content: \"▸\";float: left;margin-right: 0.25em;color: #696969;}#sk-container-id-1 label.sk-toggleable__label-arrow:hover:before {color: black;}#sk-container-id-1 div.sk-estimator:hover label.sk-toggleable__label-arrow:before {color: black;}#sk-container-id-1 div.sk-toggleable__content {max-height: 0;max-width: 0;overflow: hidden;text-align: left;background-color: #f0f8ff;}#sk-container-id-1 div.sk-toggleable__content pre {margin: 0.2em;color: black;border-radius: 0.25em;background-color: #f0f8ff;}#sk-container-id-1 input.sk-toggleable__control:checked~div.sk-toggleable__content {max-height: 200px;max-width: 100%;overflow: auto;}#sk-container-id-1 input.sk-toggleable__control:checked~label.sk-toggleable__label-arrow:before {content: \"▾\";}#sk-container-id-1 div.sk-estimator input.sk-toggleable__control:checked~label.sk-toggleable__label {background-color: #d4ebff;}#sk-container-id-1 div.sk-label input.sk-toggleable__control:checked~label.sk-toggleable__label {background-color: #d4ebff;}#sk-container-id-1 input.sk-hidden--visually {border: 0;clip: rect(1px 1px 1px 1px);clip: rect(1px, 1px, 1px, 1px);height: 1px;margin: -1px;overflow: hidden;padding: 0;position: absolute;width: 1px;}#sk-container-id-1 div.sk-estimator {font-family: monospace;background-color: #f0f8ff;border: 1px dotted black;border-radius: 0.25em;box-sizing: border-box;margin-bottom: 0.5em;}#sk-container-id-1 div.sk-estimator:hover {background-color: #d4ebff;}#sk-container-id-1 div.sk-parallel-item::after {content: \"\";width: 100%;border-bottom: 1px solid gray;flex-grow: 1;}#sk-container-id-1 div.sk-label:hover label.sk-toggleable__label {background-color: #d4ebff;}#sk-container-id-1 div.sk-serial::before {content: \"\";position: absolute;border-left: 1px solid gray;box-sizing: border-box;top: 0;bottom: 0;left: 50%;z-index: 0;}#sk-container-id-1 div.sk-serial {display: flex;flex-direction: column;align-items: center;background-color: white;padding-right: 0.2em;padding-left: 0.2em;position: relative;}#sk-container-id-1 div.sk-item {position: relative;z-index: 1;}#sk-container-id-1 div.sk-parallel {display: flex;align-items: stretch;justify-content: center;background-color: white;position: relative;}#sk-container-id-1 div.sk-item::before, #sk-container-id-1 div.sk-parallel-item::before {content: \"\";position: absolute;border-left: 1px solid gray;box-sizing: border-box;top: 0;bottom: 0;left: 50%;z-index: -1;}#sk-container-id-1 div.sk-parallel-item {display: flex;flex-direction: column;z-index: 1;position: relative;background-color: white;}#sk-container-id-1 div.sk-parallel-item:first-child::after {align-self: flex-end;width: 50%;}#sk-container-id-1 div.sk-parallel-item:last-child::after {align-self: flex-start;width: 50%;}#sk-container-id-1 div.sk-parallel-item:only-child::after {width: 0;}#sk-container-id-1 div.sk-dashed-wrapped {border: 1px dashed gray;margin: 0 0.4em 0.5em 0.4em;box-sizing: border-box;padding-bottom: 0.4em;background-color: white;}#sk-container-id-1 div.sk-label label {font-family: monospace;font-weight: bold;display: inline-block;line-height: 1.2em;}#sk-container-id-1 div.sk-label-container {text-align: center;}#sk-container-id-1 div.sk-container {/* jupyter's `normalize.less` sets `[hidden] { display: none; }` but bootstrap.min.css set `[hidden] { display: none !important; }` so we also need the `!important` here to be able to override the default hidden behavior on the sphinx rendered scikit-learn.org. See: https://github.com/scikit-learn/scikit-learn/issues/21755 */display: inline-block !important;position: relative;}#sk-container-id-1 div.sk-text-repr-fallback {display: none;}</style><div id=\"sk-container-id-1\" class=\"sk-top-container\"><div class=\"sk-text-repr-fallback\"><pre>LinearRegression()</pre><b>In a Jupyter environment, please rerun this cell to show the HTML representation or trust the notebook. <br />On GitHub, the HTML representation is unable to render, please try loading this page with nbviewer.org.</b></div><div class=\"sk-container\" hidden><div class=\"sk-item\"><div class=\"sk-estimator sk-toggleable\"><input class=\"sk-toggleable__control sk-hidden--visually\" id=\"sk-estimator-id-1\" type=\"checkbox\" checked><label for=\"sk-estimator-id-1\" class=\"sk-toggleable__label sk-toggleable__label-arrow\">LinearRegression</label><div class=\"sk-toggleable__content\"><pre>LinearRegression()</pre></div></div></div></div></div>"
      ],
      "text/plain": [
       "LinearRegression()"
      ]
     },
     "execution_count": 12,
     "metadata": {},
     "output_type": "execute_result"
    }
   ],
   "source": [
    "## fitting the data into a model\n",
    "\n",
    "x_columns = [\"Work hours/week\", \"GDP per capita\", \"Stability\",  \"Rights\", \"Health\", \"Safety\", \"Climate\", \"Costs\", \"Popularity\", \"Cost of Living Index\"]\n",
    "X = cleaned_df[x_columns]\n",
    "y = cleaned_df[\"Annual min wage\"]\n",
    "linear_model = LinearRegression()\n",
    "linear_model.fit(X, y)"
   ]
  },
  {
   "cell_type": "code",
   "execution_count": 13,
   "id": "e6236a37",
   "metadata": {},
   "outputs": [],
   "source": [
    "# Split the data into training and testing sets (80% train, 20% test)\n",
    "\n",
    "X_train, X_test, y_train, y_test = train_test_split(X, y, test_size=0.2, random_state=1)"
   ]
  },
  {
   "cell_type": "code",
   "execution_count": 14,
   "id": "b1b1f982",
   "metadata": {},
   "outputs": [],
   "source": [
    "# Standardize the data\n",
    "scaler = StandardScaler()\n",
    "X_train = scaler.fit_transform(X_train)\n",
    "X_test = scaler.transform(X_test)"
   ]
  },
  {
   "cell_type": "code",
   "execution_count": 15,
   "id": "6218f5d4",
   "metadata": {},
   "outputs": [
    {
     "data": {
      "text/html": [
       "<style>#sk-container-id-2 {color: black;background-color: white;}#sk-container-id-2 pre{padding: 0;}#sk-container-id-2 div.sk-toggleable {background-color: white;}#sk-container-id-2 label.sk-toggleable__label {cursor: pointer;display: block;width: 100%;margin-bottom: 0;padding: 0.3em;box-sizing: border-box;text-align: center;}#sk-container-id-2 label.sk-toggleable__label-arrow:before {content: \"▸\";float: left;margin-right: 0.25em;color: #696969;}#sk-container-id-2 label.sk-toggleable__label-arrow:hover:before {color: black;}#sk-container-id-2 div.sk-estimator:hover label.sk-toggleable__label-arrow:before {color: black;}#sk-container-id-2 div.sk-toggleable__content {max-height: 0;max-width: 0;overflow: hidden;text-align: left;background-color: #f0f8ff;}#sk-container-id-2 div.sk-toggleable__content pre {margin: 0.2em;color: black;border-radius: 0.25em;background-color: #f0f8ff;}#sk-container-id-2 input.sk-toggleable__control:checked~div.sk-toggleable__content {max-height: 200px;max-width: 100%;overflow: auto;}#sk-container-id-2 input.sk-toggleable__control:checked~label.sk-toggleable__label-arrow:before {content: \"▾\";}#sk-container-id-2 div.sk-estimator input.sk-toggleable__control:checked~label.sk-toggleable__label {background-color: #d4ebff;}#sk-container-id-2 div.sk-label input.sk-toggleable__control:checked~label.sk-toggleable__label {background-color: #d4ebff;}#sk-container-id-2 input.sk-hidden--visually {border: 0;clip: rect(1px 1px 1px 1px);clip: rect(1px, 1px, 1px, 1px);height: 1px;margin: -1px;overflow: hidden;padding: 0;position: absolute;width: 1px;}#sk-container-id-2 div.sk-estimator {font-family: monospace;background-color: #f0f8ff;border: 1px dotted black;border-radius: 0.25em;box-sizing: border-box;margin-bottom: 0.5em;}#sk-container-id-2 div.sk-estimator:hover {background-color: #d4ebff;}#sk-container-id-2 div.sk-parallel-item::after {content: \"\";width: 100%;border-bottom: 1px solid gray;flex-grow: 1;}#sk-container-id-2 div.sk-label:hover label.sk-toggleable__label {background-color: #d4ebff;}#sk-container-id-2 div.sk-serial::before {content: \"\";position: absolute;border-left: 1px solid gray;box-sizing: border-box;top: 0;bottom: 0;left: 50%;z-index: 0;}#sk-container-id-2 div.sk-serial {display: flex;flex-direction: column;align-items: center;background-color: white;padding-right: 0.2em;padding-left: 0.2em;position: relative;}#sk-container-id-2 div.sk-item {position: relative;z-index: 1;}#sk-container-id-2 div.sk-parallel {display: flex;align-items: stretch;justify-content: center;background-color: white;position: relative;}#sk-container-id-2 div.sk-item::before, #sk-container-id-2 div.sk-parallel-item::before {content: \"\";position: absolute;border-left: 1px solid gray;box-sizing: border-box;top: 0;bottom: 0;left: 50%;z-index: -1;}#sk-container-id-2 div.sk-parallel-item {display: flex;flex-direction: column;z-index: 1;position: relative;background-color: white;}#sk-container-id-2 div.sk-parallel-item:first-child::after {align-self: flex-end;width: 50%;}#sk-container-id-2 div.sk-parallel-item:last-child::after {align-self: flex-start;width: 50%;}#sk-container-id-2 div.sk-parallel-item:only-child::after {width: 0;}#sk-container-id-2 div.sk-dashed-wrapped {border: 1px dashed gray;margin: 0 0.4em 0.5em 0.4em;box-sizing: border-box;padding-bottom: 0.4em;background-color: white;}#sk-container-id-2 div.sk-label label {font-family: monospace;font-weight: bold;display: inline-block;line-height: 1.2em;}#sk-container-id-2 div.sk-label-container {text-align: center;}#sk-container-id-2 div.sk-container {/* jupyter's `normalize.less` sets `[hidden] { display: none; }` but bootstrap.min.css set `[hidden] { display: none !important; }` so we also need the `!important` here to be able to override the default hidden behavior on the sphinx rendered scikit-learn.org. See: https://github.com/scikit-learn/scikit-learn/issues/21755 */display: inline-block !important;position: relative;}#sk-container-id-2 div.sk-text-repr-fallback {display: none;}</style><div id=\"sk-container-id-2\" class=\"sk-top-container\"><div class=\"sk-text-repr-fallback\"><pre>LinearRegression()</pre><b>In a Jupyter environment, please rerun this cell to show the HTML representation or trust the notebook. <br />On GitHub, the HTML representation is unable to render, please try loading this page with nbviewer.org.</b></div><div class=\"sk-container\" hidden><div class=\"sk-item\"><div class=\"sk-estimator sk-toggleable\"><input class=\"sk-toggleable__control sk-hidden--visually\" id=\"sk-estimator-id-2\" type=\"checkbox\" checked><label for=\"sk-estimator-id-2\" class=\"sk-toggleable__label sk-toggleable__label-arrow\">LinearRegression</label><div class=\"sk-toggleable__content\"><pre>LinearRegression()</pre></div></div></div></div></div>"
      ],
      "text/plain": [
       "LinearRegression()"
      ]
     },
     "execution_count": 15,
     "metadata": {},
     "output_type": "execute_result"
    }
   ],
   "source": [
    "# Initialize and train the linear regression model\n",
    "\n",
    "model = LinearRegression()\n",
    "model.fit(X_train, y_train)"
   ]
  },
  {
   "cell_type": "code",
   "execution_count": 17,
   "id": "ba3bd293",
   "metadata": {},
   "outputs": [
    {
     "name": "stdout",
     "output_type": "stream",
     "text": [
      "Estimated minimum income for Singapore: $27109.85\n"
     ]
    }
   ],
   "source": [
    "# Predict the minimum income for Singapore\n",
    "singapore_features = singapore_df[x_columns] \n",
    "singapore_features = scaler.transform(singapore_features)  # Standardize the features\n",
    "singapore_pred = model.predict(singapore_features)\n",
    "\n",
    "print(f\"Estimated minimum income for Singapore: ${singapore_pred[0]:.2f}\")"
   ]
  },
  {
   "cell_type": "markdown",
   "id": "e5a7a41b",
   "metadata": {},
   "source": [
    "## Stepwise regression"
   ]
  },
  {
   "cell_type": "code",
   "execution_count": 21,
   "id": "28aa0830",
   "metadata": {},
   "outputs": [
    {
     "name": "stdout",
     "output_type": "stream",
     "text": [
      "                                 OLS Regression Results                                \n",
      "=======================================================================================\n",
      "Dep. Variable:        Annual min wage   R-squared (uncentered):                   0.893\n",
      "Model:                            OLS   Adj. R-squared (uncentered):              0.879\n",
      "Method:                 Least Squares   F-statistic:                              66.69\n",
      "Date:                Mon, 25 Sep 2023   Prob (F-statistic):                    1.36e-34\n",
      "Time:                        11:51:51   Log-Likelihood:                         -873.49\n",
      "No. Observations:                  90   AIC:                                      1767.\n",
      "Df Residuals:                      80   BIC:                                      1792.\n",
      "Df Model:                          10                                                  \n",
      "Covariance Type:            nonrobust                                                  \n",
      "========================================================================================\n",
      "                           coef    std err          t      P>|t|      [0.025      0.975]\n",
      "----------------------------------------------------------------------------------------\n",
      "Work hours/week        -22.9226     86.947     -0.264      0.793    -195.953     150.108\n",
      "GDP per capita           0.1481      0.039      3.812      0.000       0.071       0.225\n",
      "Stability             -134.7778     55.641     -2.422      0.018    -245.508     -24.048\n",
      "Rights                  37.9502     42.819      0.886      0.378     -47.262     123.163\n",
      "Health                  54.2713     30.840      1.760      0.082      -7.102     115.645\n",
      "Safety                  63.9541     35.380      1.808      0.074      -6.454     134.362\n",
      "Climate                -14.3795     27.875     -0.516      0.607     -69.852      41.093\n",
      "Costs                 -108.4400     44.696     -2.426      0.018    -197.387     -19.493\n",
      "Popularity              40.4404     42.702      0.947      0.346     -44.540     125.421\n",
      "Cost of Living Index   200.5438     62.111      3.229      0.002      76.939     324.149\n",
      "==============================================================================\n",
      "Omnibus:                       12.716   Durbin-Watson:                   2.196\n",
      "Prob(Omnibus):                  0.002   Jarque-Bera (JB):               15.143\n",
      "Skew:                           0.727   Prob(JB):                     0.000515\n",
      "Kurtosis:                       4.387   Cond. No.                     6.16e+03\n",
      "==============================================================================\n",
      "\n",
      "Notes:\n",
      "[1] R² is computed without centering (uncentered) since the model does not contain a constant.\n",
      "[2] Standard Errors assume that the covariance matrix of the errors is correctly specified.\n",
      "[3] The condition number is large, 6.16e+03. This might indicate that there are\n",
      "strong multicollinearity or other numerical problems.\n"
     ]
    }
   ],
   "source": [
    "#Define formula\n",
    "\n",
    "def get_stats():\n",
    "    X = cleaned_df[x_columns]\n",
    "    results = sm.OLS(y, X).fit()\n",
    "    print(results.summary())\n",
    "get_stats()"
   ]
  },
  {
   "cell_type": "markdown",
   "id": "eb8bac22",
   "metadata": {},
   "source": [
    "## Remove variables that are most statistically significant (highest p-value)"
   ]
  },
  {
   "cell_type": "code",
   "execution_count": 22,
   "id": "54b1a51a",
   "metadata": {},
   "outputs": [
    {
     "name": "stdout",
     "output_type": "stream",
     "text": [
      "                                 OLS Regression Results                                \n",
      "=======================================================================================\n",
      "Dep. Variable:        Annual min wage   R-squared (uncentered):                   0.893\n",
      "Model:                            OLS   Adj. R-squared (uncentered):              0.881\n",
      "Method:                 Least Squares   F-statistic:                              74.95\n",
      "Date:                Mon, 25 Sep 2023   Prob (F-statistic):                    1.58e-35\n",
      "Time:                        11:51:51   Log-Likelihood:                         -873.53\n",
      "No. Observations:                  90   AIC:                                      1765.\n",
      "Df Residuals:                      81   BIC:                                      1788.\n",
      "Df Model:                           9                                                  \n",
      "Covariance Type:            nonrobust                                                  \n",
      "========================================================================================\n",
      "                           coef    std err          t      P>|t|      [0.025      0.975]\n",
      "----------------------------------------------------------------------------------------\n",
      "GDP per capita           0.1499      0.038      3.941      0.000       0.074       0.226\n",
      "Stability             -136.7118     54.838     -2.493      0.015    -245.822     -27.601\n",
      "Rights                  38.1402     42.566      0.896      0.373     -46.553     122.834\n",
      "Health                  54.8041     30.596      1.791      0.077      -6.073     115.681\n",
      "Safety                  62.7259     34.870      1.799      0.076      -6.654     132.106\n",
      "Climate                -18.1619     23.761     -0.764      0.447     -65.440      29.116\n",
      "Costs                 -116.0184     34.028     -3.409      0.001    -183.724     -48.313\n",
      "Popularity              37.9359     41.392      0.916      0.362     -44.422     120.294\n",
      "Cost of Living Index   197.1297     60.396      3.264      0.002      76.960     317.299\n",
      "==============================================================================\n",
      "Omnibus:                       12.286   Durbin-Watson:                   2.189\n",
      "Prob(Omnibus):                  0.002   Jarque-Bera (JB):               14.346\n",
      "Skew:                           0.716   Prob(JB):                     0.000767\n",
      "Kurtosis:                       4.333   Cond. No.                     4.47e+03\n",
      "==============================================================================\n",
      "\n",
      "Notes:\n",
      "[1] R² is computed without centering (uncentered) since the model does not contain a constant.\n",
      "[2] Standard Errors assume that the covariance matrix of the errors is correctly specified.\n",
      "[3] The condition number is large, 4.47e+03. This might indicate that there are\n",
      "strong multicollinearity or other numerical problems.\n"
     ]
    }
   ],
   "source": [
    "x_columns.remove(\"Work hours/week\")\n",
    "\n",
    "get_stats()"
   ]
  },
  {
   "cell_type": "code",
   "execution_count": 23,
   "id": "113e8799",
   "metadata": {},
   "outputs": [
    {
     "name": "stdout",
     "output_type": "stream",
     "text": [
      "                                 OLS Regression Results                                \n",
      "=======================================================================================\n",
      "Dep. Variable:        Annual min wage   R-squared (uncentered):                   0.892\n",
      "Model:                            OLS   Adj. R-squared (uncentered):              0.881\n",
      "Method:                 Least Squares   F-statistic:                              84.67\n",
      "Date:                Mon, 25 Sep 2023   Prob (F-statistic):                    2.21e-36\n",
      "Time:                        11:51:51   Log-Likelihood:                         -873.85\n",
      "No. Observations:                  90   AIC:                                      1764.\n",
      "Df Residuals:                      82   BIC:                                      1784.\n",
      "Df Model:                           8                                                  \n",
      "Covariance Type:            nonrobust                                                  \n",
      "========================================================================================\n",
      "                           coef    std err          t      P>|t|      [0.025      0.975]\n",
      "----------------------------------------------------------------------------------------\n",
      "GDP per capita           0.1620      0.034      4.699      0.000       0.093       0.231\n",
      "Stability             -137.1575     54.696     -2.508      0.014    -245.965     -28.350\n",
      "Rights                  40.9512     42.299      0.968      0.336     -43.196     125.098\n",
      "Health                  60.6984     29.533      2.055      0.043       1.947     119.450\n",
      "Safety                  61.6247     34.752      1.773      0.080      -7.507     130.757\n",
      "Costs                 -124.6544     32.016     -3.893      0.000    -188.345     -60.964\n",
      "Popularity              28.9666     39.594      0.732      0.466     -49.798     107.731\n",
      "Cost of Living Index   179.7977     55.836      3.220      0.002      68.723     290.873\n",
      "==============================================================================\n",
      "Omnibus:                       11.331   Durbin-Watson:                   2.206\n",
      "Prob(Omnibus):                  0.003   Jarque-Bera (JB):               13.019\n",
      "Skew:                           0.671   Prob(JB):                      0.00149\n",
      "Kurtosis:                       4.293   Cond. No.                     4.31e+03\n",
      "==============================================================================\n",
      "\n",
      "Notes:\n",
      "[1] R² is computed without centering (uncentered) since the model does not contain a constant.\n",
      "[2] Standard Errors assume that the covariance matrix of the errors is correctly specified.\n",
      "[3] The condition number is large, 4.31e+03. This might indicate that there are\n",
      "strong multicollinearity or other numerical problems.\n"
     ]
    }
   ],
   "source": [
    "x_columns.remove(\"Climate\")\n",
    "\n",
    "get_stats()"
   ]
  },
  {
   "cell_type": "code",
   "execution_count": 24,
   "id": "b367e21b",
   "metadata": {},
   "outputs": [
    {
     "name": "stdout",
     "output_type": "stream",
     "text": [
      "                                 OLS Regression Results                                \n",
      "=======================================================================================\n",
      "Dep. Variable:        Annual min wage   R-squared (uncentered):                   0.891\n",
      "Model:                            OLS   Adj. R-squared (uncentered):              0.882\n",
      "Method:                 Least Squares   F-statistic:                              97.24\n",
      "Date:                Mon, 25 Sep 2023   Prob (F-statistic):                    2.80e-37\n",
      "Time:                        11:51:51   Log-Likelihood:                         -874.15\n",
      "No. Observations:                  90   AIC:                                      1762.\n",
      "Df Residuals:                      83   BIC:                                      1780.\n",
      "Df Model:                           7                                                  \n",
      "Covariance Type:            nonrobust                                                  \n",
      "========================================================================================\n",
      "                           coef    std err          t      P>|t|      [0.025      0.975]\n",
      "----------------------------------------------------------------------------------------\n",
      "GDP per capita           0.1615      0.034      4.699      0.000       0.093       0.230\n",
      "Stability             -131.2684     53.948     -2.433      0.017    -238.570     -23.967\n",
      "Rights                  41.4189     42.176      0.982      0.329     -42.468     125.305\n",
      "Health                  66.5451     28.352      2.347      0.021      10.154     122.936\n",
      "Safety                  63.7133     34.537      1.845      0.069      -4.979     132.406\n",
      "Costs                 -126.3820     31.840     -3.969      0.000    -189.710     -63.054\n",
      "Cost of Living Index   187.8235     54.594      3.440      0.001      79.238     296.409\n",
      "==============================================================================\n",
      "Omnibus:                       11.288   Durbin-Watson:                   2.210\n",
      "Prob(Omnibus):                  0.004   Jarque-Bera (JB):               12.441\n",
      "Skew:                           0.698   Prob(JB):                      0.00199\n",
      "Kurtosis:                       4.170   Cond. No.                     4.31e+03\n",
      "==============================================================================\n",
      "\n",
      "Notes:\n",
      "[1] R² is computed without centering (uncentered) since the model does not contain a constant.\n",
      "[2] Standard Errors assume that the covariance matrix of the errors is correctly specified.\n",
      "[3] The condition number is large, 4.31e+03. This might indicate that there are\n",
      "strong multicollinearity or other numerical problems.\n"
     ]
    }
   ],
   "source": [
    "x_columns.remove(\"Popularity\")\n",
    "\n",
    "get_stats()"
   ]
  },
  {
   "cell_type": "code",
   "execution_count": 25,
   "id": "3d4e144e",
   "metadata": {},
   "outputs": [
    {
     "name": "stdout",
     "output_type": "stream",
     "text": [
      "                                 OLS Regression Results                                \n",
      "=======================================================================================\n",
      "Dep. Variable:        Annual min wage   R-squared (uncentered):                   0.890\n",
      "Model:                            OLS   Adj. R-squared (uncentered):              0.882\n",
      "Method:                 Least Squares   F-statistic:                              113.3\n",
      "Date:                Mon, 25 Sep 2023   Prob (F-statistic):                    4.05e-38\n",
      "Time:                        11:51:51   Log-Likelihood:                         -874.67\n",
      "No. Observations:                  90   AIC:                                      1761.\n",
      "Df Residuals:                      84   BIC:                                      1776.\n",
      "Df Model:                           6                                                  \n",
      "Covariance Type:            nonrobust                                                  \n",
      "========================================================================================\n",
      "                           coef    std err          t      P>|t|      [0.025      0.975]\n",
      "----------------------------------------------------------------------------------------\n",
      "GDP per capita           0.1689      0.034      5.038      0.000       0.102       0.236\n",
      "Stability             -113.1159     50.672     -2.232      0.028    -213.883     -12.349\n",
      "Health                  73.1366     27.540      2.656      0.009      18.370     127.903\n",
      "Safety                  70.1136     33.909      2.068      0.042       2.681     137.546\n",
      "Costs                 -137.5713     29.725     -4.628      0.000    -196.683     -78.460\n",
      "Cost of Living Index   201.7682     52.704      3.828      0.000      96.961     306.576\n",
      "==============================================================================\n",
      "Omnibus:                        9.942   Durbin-Watson:                   2.183\n",
      "Prob(Omnibus):                  0.007   Jarque-Bera (JB):               10.814\n",
      "Skew:                           0.624   Prob(JB):                      0.00449\n",
      "Kurtosis:                       4.152   Cond. No.                     4.31e+03\n",
      "==============================================================================\n",
      "\n",
      "Notes:\n",
      "[1] R² is computed without centering (uncentered) since the model does not contain a constant.\n",
      "[2] Standard Errors assume that the covariance matrix of the errors is correctly specified.\n",
      "[3] The condition number is large, 4.31e+03. This might indicate that there are\n",
      "strong multicollinearity or other numerical problems.\n"
     ]
    }
   ],
   "source": [
    "x_columns.remove(\"Rights\")\n",
    "\n",
    "get_stats()"
   ]
  },
  {
   "cell_type": "markdown",
   "id": "b87316f2",
   "metadata": {},
   "source": [
    "# Building regression with statistically significant variables"
   ]
  },
  {
   "cell_type": "code",
   "execution_count": 29,
   "id": "357c653a",
   "metadata": {},
   "outputs": [
    {
     "name": "stdout",
     "output_type": "stream",
     "text": [
      "['GDP per capita', 'Stability', 'Health', 'Safety', 'Costs', 'Cost of Living Index']\n"
     ]
    },
    {
     "data": {
      "text/html": [
       "<style>#sk-container-id-3 {color: black;background-color: white;}#sk-container-id-3 pre{padding: 0;}#sk-container-id-3 div.sk-toggleable {background-color: white;}#sk-container-id-3 label.sk-toggleable__label {cursor: pointer;display: block;width: 100%;margin-bottom: 0;padding: 0.3em;box-sizing: border-box;text-align: center;}#sk-container-id-3 label.sk-toggleable__label-arrow:before {content: \"▸\";float: left;margin-right: 0.25em;color: #696969;}#sk-container-id-3 label.sk-toggleable__label-arrow:hover:before {color: black;}#sk-container-id-3 div.sk-estimator:hover label.sk-toggleable__label-arrow:before {color: black;}#sk-container-id-3 div.sk-toggleable__content {max-height: 0;max-width: 0;overflow: hidden;text-align: left;background-color: #f0f8ff;}#sk-container-id-3 div.sk-toggleable__content pre {margin: 0.2em;color: black;border-radius: 0.25em;background-color: #f0f8ff;}#sk-container-id-3 input.sk-toggleable__control:checked~div.sk-toggleable__content {max-height: 200px;max-width: 100%;overflow: auto;}#sk-container-id-3 input.sk-toggleable__control:checked~label.sk-toggleable__label-arrow:before {content: \"▾\";}#sk-container-id-3 div.sk-estimator input.sk-toggleable__control:checked~label.sk-toggleable__label {background-color: #d4ebff;}#sk-container-id-3 div.sk-label input.sk-toggleable__control:checked~label.sk-toggleable__label {background-color: #d4ebff;}#sk-container-id-3 input.sk-hidden--visually {border: 0;clip: rect(1px 1px 1px 1px);clip: rect(1px, 1px, 1px, 1px);height: 1px;margin: -1px;overflow: hidden;padding: 0;position: absolute;width: 1px;}#sk-container-id-3 div.sk-estimator {font-family: monospace;background-color: #f0f8ff;border: 1px dotted black;border-radius: 0.25em;box-sizing: border-box;margin-bottom: 0.5em;}#sk-container-id-3 div.sk-estimator:hover {background-color: #d4ebff;}#sk-container-id-3 div.sk-parallel-item::after {content: \"\";width: 100%;border-bottom: 1px solid gray;flex-grow: 1;}#sk-container-id-3 div.sk-label:hover label.sk-toggleable__label {background-color: #d4ebff;}#sk-container-id-3 div.sk-serial::before {content: \"\";position: absolute;border-left: 1px solid gray;box-sizing: border-box;top: 0;bottom: 0;left: 50%;z-index: 0;}#sk-container-id-3 div.sk-serial {display: flex;flex-direction: column;align-items: center;background-color: white;padding-right: 0.2em;padding-left: 0.2em;position: relative;}#sk-container-id-3 div.sk-item {position: relative;z-index: 1;}#sk-container-id-3 div.sk-parallel {display: flex;align-items: stretch;justify-content: center;background-color: white;position: relative;}#sk-container-id-3 div.sk-item::before, #sk-container-id-3 div.sk-parallel-item::before {content: \"\";position: absolute;border-left: 1px solid gray;box-sizing: border-box;top: 0;bottom: 0;left: 50%;z-index: -1;}#sk-container-id-3 div.sk-parallel-item {display: flex;flex-direction: column;z-index: 1;position: relative;background-color: white;}#sk-container-id-3 div.sk-parallel-item:first-child::after {align-self: flex-end;width: 50%;}#sk-container-id-3 div.sk-parallel-item:last-child::after {align-self: flex-start;width: 50%;}#sk-container-id-3 div.sk-parallel-item:only-child::after {width: 0;}#sk-container-id-3 div.sk-dashed-wrapped {border: 1px dashed gray;margin: 0 0.4em 0.5em 0.4em;box-sizing: border-box;padding-bottom: 0.4em;background-color: white;}#sk-container-id-3 div.sk-label label {font-family: monospace;font-weight: bold;display: inline-block;line-height: 1.2em;}#sk-container-id-3 div.sk-label-container {text-align: center;}#sk-container-id-3 div.sk-container {/* jupyter's `normalize.less` sets `[hidden] { display: none; }` but bootstrap.min.css set `[hidden] { display: none !important; }` so we also need the `!important` here to be able to override the default hidden behavior on the sphinx rendered scikit-learn.org. See: https://github.com/scikit-learn/scikit-learn/issues/21755 */display: inline-block !important;position: relative;}#sk-container-id-3 div.sk-text-repr-fallback {display: none;}</style><div id=\"sk-container-id-3\" class=\"sk-top-container\"><div class=\"sk-text-repr-fallback\"><pre>LinearRegression()</pre><b>In a Jupyter environment, please rerun this cell to show the HTML representation or trust the notebook. <br />On GitHub, the HTML representation is unable to render, please try loading this page with nbviewer.org.</b></div><div class=\"sk-container\" hidden><div class=\"sk-item\"><div class=\"sk-estimator sk-toggleable\"><input class=\"sk-toggleable__control sk-hidden--visually\" id=\"sk-estimator-id-3\" type=\"checkbox\" checked><label for=\"sk-estimator-id-3\" class=\"sk-toggleable__label sk-toggleable__label-arrow\">LinearRegression</label><div class=\"sk-toggleable__content\"><pre>LinearRegression()</pre></div></div></div></div></div>"
      ],
      "text/plain": [
       "LinearRegression()"
      ]
     },
     "execution_count": 29,
     "metadata": {},
     "output_type": "execute_result"
    }
   ],
   "source": [
    "## creating a linear model and prediction\n",
    "\n",
    "print(x_columns)\n",
    "X = cleaned_df[x_columns]\n",
    "y = cleaned_df[\"Annual min wage\"]\n",
    "linear_model = LinearRegression()\n",
    "linear_model.fit(X, y)\n",
    "\n",
    "\n",
    "# singapore_features = singapore_df[x_columns] \n",
    "# singapore_features = scaler.transform(singapore_features)\n",
    "# y_pred = linear_model.predict(singapore_features)\n",
    "# print(\"Prediction for Singapore is \", y_pred)"
   ]
  },
  {
   "cell_type": "code",
   "execution_count": 30,
   "id": "f117ee2b",
   "metadata": {},
   "outputs": [],
   "source": [
    "# Split the data into training and testing sets (80% train, 20% test)\n",
    "\n",
    "X_train, X_test, y_train, y_test = train_test_split(X, y, test_size=0.2, random_state=1)"
   ]
  },
  {
   "cell_type": "code",
   "execution_count": 31,
   "id": "d8917b70",
   "metadata": {},
   "outputs": [],
   "source": [
    "# Standardize the data\n",
    "scaler = StandardScaler()\n",
    "X_train = scaler.fit_transform(X_train)\n",
    "X_test = scaler.transform(X_test)"
   ]
  },
  {
   "cell_type": "code",
   "execution_count": 32,
   "id": "249cef6a",
   "metadata": {},
   "outputs": [
    {
     "data": {
      "text/html": [
       "<style>#sk-container-id-4 {color: black;background-color: white;}#sk-container-id-4 pre{padding: 0;}#sk-container-id-4 div.sk-toggleable {background-color: white;}#sk-container-id-4 label.sk-toggleable__label {cursor: pointer;display: block;width: 100%;margin-bottom: 0;padding: 0.3em;box-sizing: border-box;text-align: center;}#sk-container-id-4 label.sk-toggleable__label-arrow:before {content: \"▸\";float: left;margin-right: 0.25em;color: #696969;}#sk-container-id-4 label.sk-toggleable__label-arrow:hover:before {color: black;}#sk-container-id-4 div.sk-estimator:hover label.sk-toggleable__label-arrow:before {color: black;}#sk-container-id-4 div.sk-toggleable__content {max-height: 0;max-width: 0;overflow: hidden;text-align: left;background-color: #f0f8ff;}#sk-container-id-4 div.sk-toggleable__content pre {margin: 0.2em;color: black;border-radius: 0.25em;background-color: #f0f8ff;}#sk-container-id-4 input.sk-toggleable__control:checked~div.sk-toggleable__content {max-height: 200px;max-width: 100%;overflow: auto;}#sk-container-id-4 input.sk-toggleable__control:checked~label.sk-toggleable__label-arrow:before {content: \"▾\";}#sk-container-id-4 div.sk-estimator input.sk-toggleable__control:checked~label.sk-toggleable__label {background-color: #d4ebff;}#sk-container-id-4 div.sk-label input.sk-toggleable__control:checked~label.sk-toggleable__label {background-color: #d4ebff;}#sk-container-id-4 input.sk-hidden--visually {border: 0;clip: rect(1px 1px 1px 1px);clip: rect(1px, 1px, 1px, 1px);height: 1px;margin: -1px;overflow: hidden;padding: 0;position: absolute;width: 1px;}#sk-container-id-4 div.sk-estimator {font-family: monospace;background-color: #f0f8ff;border: 1px dotted black;border-radius: 0.25em;box-sizing: border-box;margin-bottom: 0.5em;}#sk-container-id-4 div.sk-estimator:hover {background-color: #d4ebff;}#sk-container-id-4 div.sk-parallel-item::after {content: \"\";width: 100%;border-bottom: 1px solid gray;flex-grow: 1;}#sk-container-id-4 div.sk-label:hover label.sk-toggleable__label {background-color: #d4ebff;}#sk-container-id-4 div.sk-serial::before {content: \"\";position: absolute;border-left: 1px solid gray;box-sizing: border-box;top: 0;bottom: 0;left: 50%;z-index: 0;}#sk-container-id-4 div.sk-serial {display: flex;flex-direction: column;align-items: center;background-color: white;padding-right: 0.2em;padding-left: 0.2em;position: relative;}#sk-container-id-4 div.sk-item {position: relative;z-index: 1;}#sk-container-id-4 div.sk-parallel {display: flex;align-items: stretch;justify-content: center;background-color: white;position: relative;}#sk-container-id-4 div.sk-item::before, #sk-container-id-4 div.sk-parallel-item::before {content: \"\";position: absolute;border-left: 1px solid gray;box-sizing: border-box;top: 0;bottom: 0;left: 50%;z-index: -1;}#sk-container-id-4 div.sk-parallel-item {display: flex;flex-direction: column;z-index: 1;position: relative;background-color: white;}#sk-container-id-4 div.sk-parallel-item:first-child::after {align-self: flex-end;width: 50%;}#sk-container-id-4 div.sk-parallel-item:last-child::after {align-self: flex-start;width: 50%;}#sk-container-id-4 div.sk-parallel-item:only-child::after {width: 0;}#sk-container-id-4 div.sk-dashed-wrapped {border: 1px dashed gray;margin: 0 0.4em 0.5em 0.4em;box-sizing: border-box;padding-bottom: 0.4em;background-color: white;}#sk-container-id-4 div.sk-label label {font-family: monospace;font-weight: bold;display: inline-block;line-height: 1.2em;}#sk-container-id-4 div.sk-label-container {text-align: center;}#sk-container-id-4 div.sk-container {/* jupyter's `normalize.less` sets `[hidden] { display: none; }` but bootstrap.min.css set `[hidden] { display: none !important; }` so we also need the `!important` here to be able to override the default hidden behavior on the sphinx rendered scikit-learn.org. See: https://github.com/scikit-learn/scikit-learn/issues/21755 */display: inline-block !important;position: relative;}#sk-container-id-4 div.sk-text-repr-fallback {display: none;}</style><div id=\"sk-container-id-4\" class=\"sk-top-container\"><div class=\"sk-text-repr-fallback\"><pre>LinearRegression()</pre><b>In a Jupyter environment, please rerun this cell to show the HTML representation or trust the notebook. <br />On GitHub, the HTML representation is unable to render, please try loading this page with nbviewer.org.</b></div><div class=\"sk-container\" hidden><div class=\"sk-item\"><div class=\"sk-estimator sk-toggleable\"><input class=\"sk-toggleable__control sk-hidden--visually\" id=\"sk-estimator-id-4\" type=\"checkbox\" checked><label for=\"sk-estimator-id-4\" class=\"sk-toggleable__label sk-toggleable__label-arrow\">LinearRegression</label><div class=\"sk-toggleable__content\"><pre>LinearRegression()</pre></div></div></div></div></div>"
      ],
      "text/plain": [
       "LinearRegression()"
      ]
     },
     "execution_count": 32,
     "metadata": {},
     "output_type": "execute_result"
    }
   ],
   "source": [
    "# Initialize and train the linear regression model\n",
    "\n",
    "model = LinearRegression()\n",
    "model.fit(X_train, y_train)"
   ]
  },
  {
   "cell_type": "code",
   "execution_count": 34,
   "id": "92603e41",
   "metadata": {},
   "outputs": [
    {
     "name": "stdout",
     "output_type": "stream",
     "text": [
      "Estimated minimum income for Singapore: $27848.98\n"
     ]
    }
   ],
   "source": [
    "# Predict the minimum income for Singapore\n",
    "singapore_features = singapore_df[x_columns] \n",
    "singapore_features = scaler.transform(singapore_features)  # Standardize the features\n",
    "singapore_pred = model.predict(singapore_features)\n",
    "\n",
    "print(f\"Estimated minimum income for Singapore: ${singapore_pred[0]:.2f}\")"
   ]
  }
 ],
 "metadata": {
  "kernelspec": {
   "display_name": "Python 3 (ipykernel)",
   "language": "python",
   "name": "python3"
  },
  "language_info": {
   "codemirror_mode": {
    "name": "ipython",
    "version": 3
   },
   "file_extension": ".py",
   "mimetype": "text/x-python",
   "name": "python",
   "nbconvert_exporter": "python",
   "pygments_lexer": "ipython3",
   "version": "3.10.9"
  }
 },
 "nbformat": 4,
 "nbformat_minor": 5
}
